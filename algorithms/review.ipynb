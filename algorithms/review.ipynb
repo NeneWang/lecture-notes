{
 "cells": [
  {
   "cell_type": "code",
   "execution_count": null,
   "metadata": {},
   "outputs": [],
   "source": []
  },
  {
   "cell_type": "markdown",
   "metadata": {},
   "source": [
    "\n",
    "```py\n",
    "def findmaxsub(arr, l, r)\n",
    "    m = (arr//2 )+ 1\n",
    "    lh, ll, lsum = findmaxsub(arr, l, m-1)\n",
    "    rh, rl, rsum = findmaxsub(arr, m+1, r)\n",
    "    ch, cl, csum = ...\n",
    "\n",
    "    return max(...)\n",
    "\n",
    "def findmaxsubcross(arr, l, r):\n",
    "    maxSumL = -inf\n",
    "    Lr = l\n",
    "    m = arrsize//2\n",
    "    for i in l...m:\n",
    "        if ...\n",
    "\n",
    "    maxSumR = -inf\n",
    "    Hr = r\n",
    "    for i in m...r:\n",
    "        if ...\n",
    "\n",
    "    return (lr, hr, lsum + rsum)\n",
    "\n",
    "```"
   ]
  },
  {
   "cell_type": "markdown",
   "metadata": {},
   "source": [
    "```py\n",
    "\n",
    "def matrixchain(dim):\n",
    "    minmult ... 0\n",
    "\n",
    "    for chainlen in 2...len(dim) + 1:\n",
    "        for start in 0...len(mat) - len(chainlen) + 1:\n",
    "            for end in start+chainlen ... len(dim)-2:\n",
    "                minmult[start][end] = -inf\n",
    "                for split in range(start, end):\n",
    "                    cost = (\n",
    "                        minmult[start], [split] + \n",
    "                        minmult[split + 1][end]+\n",
    "                        mat[start] * mat[split + 1] + mat[end + 1]\n",
    "                    )\n",
    "                    if cost < minmult[start][end]:\n",
    "                        minmult[start][end] = cost\n",
    "                        split[start][end] = split\n",
    "    \n",
    "    return min_mult, split_points\n",
    "\n",
    "    def print_optimal_parent(start, end, splits):\n",
    "        if start == end:\n",
    "            print(fmat[start][end])\n",
    "        else:\n",
    "            print\"(\" \n",
    "            plit = splits[start][end]\n",
    "            print_opt_parent(start, split, splits)\n",
    "            print_opt_parent(split + 1, end, splits)\n",
    "            print )\n",
    "        \n",
    "\n",
    "\n",
    "```\n",
    "\n",
    "\n",
    "\n",
    "\n",
    "\n"
   ]
  },
  {
   "cell_type": "markdown",
   "metadata": {},
   "source": []
  },
  {
   "cell_type": "markdown",
   "metadata": {},
   "source": []
  },
  {
   "cell_type": "markdown",
   "metadata": {},
   "source": []
  }
 ],
 "metadata": {
  "language_info": {
   "name": "python"
  }
 },
 "nbformat": 4,
 "nbformat_minor": 2
}
