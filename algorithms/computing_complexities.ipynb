{
 "cells": [
  {
   "cell_type": "code",
   "execution_count": 4,
   "metadata": {},
   "outputs": [
    {
     "name": "stdout",
     "output_type": "stream",
     "text": [
      "[True, True, False, False, False, True, True, False, False, False, True, True]\n",
      "True\n",
      "False\n"
     ]
    }
   ],
   "source": [
    "import pprint\n",
    "\n",
    "def can_partition(S):\n",
    "    total_sum = sum(S)\n",
    "    \n",
    "    # If the total sum is odd, we cannot partition it into two equal subsets\n",
    "    if total_sum % 2 != 0:\n",
    "        return False\n",
    "    \n",
    "    target_sum = total_sum // 2\n",
    "    n = len(S)\n",
    "    \n",
    "    # Initialize a DP array\n",
    "    dp = [False] * (target_sum + 1)\n",
    "    dp[0] = True  # Base case: A subset with sum 0 is always possible (empty subset)\n",
    "    \n",
    "    # Fill the DP array\n",
    "    for num in S:\n",
    "        for i in range(target_sum, num - 1, -1):\n",
    "            dp[i] = dp[i] or dp[i - num]\n",
    "    pprint.pprint(dp)\n",
    "    return dp[target_sum]\n",
    "\n",
    "# Example usage\n",
    "S = [1, 5, 11, 5]\n",
    "print(can_partition(S))  # Output: True\n",
    "\n",
    "S = [1, 2, 3, 5]\n",
    "print(can_partition(S))  # Output: False\n"
   ]
  },
  {
   "cell_type": "code",
   "execution_count": 3,
   "metadata": {},
   "outputs": [
    {
     "name": "stdout",
     "output_type": "stream",
     "text": [
      "True\n"
     ]
    }
   ],
   "source": [
    "def subset_sum(S, T):\n",
    "    n = len(S)\n",
    "    dp = [[False] * (T + 1) for _ in range(n + 1)]\n",
    "    \n",
    "    for i in range(n + 1):\n",
    "        dp[i][0] = True  # A subset with sum 0 is always possible (empty subset)\n",
    "    \n",
    "    for i in range(1, n + 1):\n",
    "        for j in range(1, T + 1):\n",
    "            if S[i-1] > j:\n",
    "                dp[i][j] = dp[i-1][j]\n",
    "            else:\n",
    "                dp[i][j] = dp[i-1][j] or dp[i-1][j-S[i-1]]\n",
    "    \n",
    "    return dp[n][T]\n",
    "\n",
    "# Example usage\n",
    "S = [3, 34, 4, 12, 5, 2]\n",
    "T = 9\n",
    "print(subset_sum(S, T))  # Output: True\n"
   ]
  },
  {
   "cell_type": "code",
   "execution_count": null,
   "metadata": {},
   "outputs": [],
   "source": []
  }
 ],
 "metadata": {
  "kernelspec": {
   "display_name": "Python 3",
   "language": "python",
   "name": "python3"
  },
  "language_info": {
   "codemirror_mode": {
    "name": "ipython",
    "version": 3
   },
   "file_extension": ".py",
   "mimetype": "text/x-python",
   "name": "python",
   "nbconvert_exporter": "python",
   "pygments_lexer": "ipython3",
   "version": "3.10.5"
  }
 },
 "nbformat": 4,
 "nbformat_minor": 2
}
