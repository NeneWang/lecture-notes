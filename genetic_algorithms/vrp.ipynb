{
 "cells": [
  {
   "cell_type": "markdown",
   "metadata": {},
   "source": [
    "# The Vehicle Routing Problem (VRP)\n",
    "\n",
    "The Vehicle Routing Problem (VRP) is an combinatorial optimization problem of finding a set of routes for a fleet of vehicles that minimizes travel time. The Vehicle Routing Problem can be thought of as multiple Travelling Salesman Problems (TSP) combined together.\n",
    "\n",
    "INPUT\n",
    "- List of Locations that needs to be visited\n",
    "- Number of Vehicles\n",
    "- Location of the Depot. Which is used as the starting adn ending point for all the vehicles.\n",
    "\n",
    "SCORING:\n",
    "\n",
    "```{figure} ./../img/2024-04-25-12-49-18.png.png\n",
    "---\n",
    "align: center\n",
    "---\n",
    "Example VRP with three vehicles\n",
    "Source: https://commons.wikimedia.org/wiki/File:Figure_illustrating_the_vehicle_routing_problem.png\n",
    "Image by PierreSelim. Released to public domain\n",
    "```\n",
    "\n",
    "\n",
    "- Determine the longest route of all the vehicles -> The larger the route the worse the score\n",
    "\n",
    "\n",
    ":::{abdominition} Resources\n",
    "- [Google OR Tools - Vehicle Routing Problem Explainaition](https://developers.google.com/optimization/routing/vrp)\n",
    "\n",
    ":::\n",
    "\n",
    "\n"
   ]
  },
  {
   "cell_type": "markdown",
   "metadata": {},
   "source": []
  },
  {
   "cell_type": "code",
   "execution_count": null,
   "metadata": {},
   "outputs": [],
   "source": []
  }
 ],
 "metadata": {
  "language_info": {
   "name": "python"
  }
 },
 "nbformat": 4,
 "nbformat_minor": 2
}
