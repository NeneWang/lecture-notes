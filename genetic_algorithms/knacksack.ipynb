{
 "cells": [
  {
   "cell_type": "markdown",
   "metadata": {},
   "source": [
    "# Knacksack Problem\n",
    "\n"
   ]
  },
  {
   "cell_type": "code",
   "execution_count": 13,
   "metadata": {},
   "outputs": [],
   "source": [
    "import numpy as np"
   ]
  },
  {
   "cell_type": "code",
   "execution_count": 14,
   "metadata": {},
   "outputs": [],
   "source": [
    "\n",
    "class Knapsack01Problem:\n",
    "    \"\"\"This class encapsulates the Knapsack 0-1 Problem from RosettaCode.org\n",
    "    \"\"\"\n",
    "\n",
    "    def __init__(self):\n",
    "\n",
    "        # initialize instance variables:\n",
    "        self.items = []\n",
    "        self.maxCapacity = 0\n",
    "\n",
    "        # initialize the data:\n",
    "        self.__initData()\n",
    "\n",
    "    def __len__(self):\n",
    "        \"\"\"\n",
    "        :return: the total number of items defined in the problem\n",
    "        \"\"\"\n",
    "        return len(self.items)\n",
    "\n",
    "    def __initData(self):\n",
    "        \"\"\"initializes the RosettaCode.org knapsack 0-1 problem data\n",
    "        \"\"\"\n",
    "        self.items = [\n",
    "            (\"map\", 9, 150),\n",
    "            (\"compass\", 13, 35),\n",
    "            (\"water\", 153, 200),\n",
    "            (\"sandwich\", 50, 160),\n",
    "            (\"glucose\", 15, 60),\n",
    "            (\"tin\", 68, 45),\n",
    "            (\"banana\", 27, 60),\n",
    "            (\"apple\", 39, 40),\n",
    "            (\"cheese\", 23, 30),\n",
    "            (\"beer\", 52, 10),\n",
    "            (\"suntan cream\", 11, 70),\n",
    "            (\"camera\", 32, 30),\n",
    "            (\"t-shirt\", 24, 15),\n",
    "            (\"trousers\", 48, 10),\n",
    "            (\"umbrella\", 73, 40),\n",
    "            (\"waterproof trousers\", 42, 70),\n",
    "            (\"waterproof overclothes\", 43, 75),\n",
    "            (\"note-case\", 22, 80),\n",
    "            (\"sunglasses\", 7, 20),\n",
    "            (\"towel\", 18, 12),\n",
    "            (\"socks\", 4, 50),\n",
    "            (\"book\", 30, 10)\n",
    "        ]\n",
    "\n",
    "        self.maxCapacity = 400\n",
    "\n",
    "    def getValue(self, zeroOneList):\n",
    "        \"\"\"\n",
    "        Calculates the value of the selected items in the list, while ignoring items that will cause the accumulating weight to exceed the maximum weight\n",
    "        :param zeroOneList: a list of 0/1 values corresponding to the list of the problem's items. '1' means that item was selected.\n",
    "        :return: the calculated value\n",
    "        \"\"\"\n",
    "\n",
    "        totalWeight = totalValue = 0\n",
    "\n",
    "        for i in range(len(zeroOneList)):\n",
    "            item, weight, value = self.items[i]\n",
    "            if totalWeight + weight <= self.maxCapacity:\n",
    "                totalWeight += zeroOneList[i] * weight\n",
    "                totalValue += zeroOneList[i] * value\n",
    "        return totalValue\n",
    "\n",
    "    def printItems(self, zeroOneList):\n",
    "        \"\"\"\n",
    "        Prints the selected items in the list, while ignoring items that will cause the accumulating weight to exceed the maximum weight\n",
    "        :param zeroOneList: a list of 0/1 values corresponding to the list of the problem's items. '1' means that item was selected.\n",
    "        \"\"\"\n",
    "        totalWeight = totalValue = 0\n",
    "\n",
    "        for i in range(len(zeroOneList)):\n",
    "            item, weight, value = self.items[i]\n",
    "            if totalWeight + weight <= self.maxCapacity:\n",
    "                if zeroOneList[i] > 0:\n",
    "                    totalWeight += weight\n",
    "                    totalValue += value\n",
    "                    print(\"- Adding {}: weight = {}, value = {}, accumulated weight = {}, accumulated value = {}\".format(item, weight, value, totalWeight, totalValue))\n",
    "        print(\"- Total weight = {}, Total value = {}\".format(totalWeight, totalValue))\n",
    "        \n",
    "        \n"
   ]
  },
  {
   "cell_type": "code",
   "execution_count": 15,
   "metadata": {},
   "outputs": [
    {
     "name": "stdout",
     "output_type": "stream",
     "text": [
      "Random Solution = \n",
      "[0 0 1 0 1 0 1 1 1 0 0 1 0 0 0 0 0 0 0 1 1 1]\n",
      "- Adding water: weight = 153, value = 200, accumulated weight = 153, accumulated value = 200\n",
      "- Adding glucose: weight = 15, value = 60, accumulated weight = 168, accumulated value = 260\n",
      "- Adding banana: weight = 27, value = 60, accumulated weight = 195, accumulated value = 320\n",
      "- Adding apple: weight = 39, value = 40, accumulated weight = 234, accumulated value = 360\n",
      "- Adding cheese: weight = 23, value = 30, accumulated weight = 257, accumulated value = 390\n",
      "- Adding camera: weight = 32, value = 30, accumulated weight = 289, accumulated value = 420\n",
      "- Adding towel: weight = 18, value = 12, accumulated weight = 307, accumulated value = 432\n",
      "- Adding socks: weight = 4, value = 50, accumulated weight = 311, accumulated value = 482\n",
      "- Adding book: weight = 30, value = 10, accumulated weight = 341, accumulated value = 492\n",
      "- Total weight = 341, Total value = 492\n"
     ]
    }
   ],
   "source": [
    "# create a problem instance:\n",
    "knapsack = Knapsack01Problem()\n",
    "\n",
    "# creaete a random solution and evaluate it:\n",
    "randomSolution = np.random.randint(2, size=len(knapsack))\n",
    "print(\"Random Solution = \")\n",
    "print(randomSolution)\n",
    "knapsack.printItems(randomSolution)"
   ]
  },
  {
   "cell_type": "code",
   "execution_count": 17,
   "metadata": {},
   "outputs": [],
   "source": [
    "from deap import base\n",
    "from deap import creator\n",
    "from deap import tools\n",
    "from deap import algorithms\n",
    "\n",
    "import random\n",
    "import numpy\n",
    "\n",
    "import matplotlib.pyplot as plt\n",
    "import seaborn as sns\n",
    "\n",
    "import knapsack\n"
   ]
  },
  {
   "cell_type": "code",
   "execution_count": 18,
   "metadata": {},
   "outputs": [],
   "source": [
    "\n",
    "# problem constants:\n",
    "# create the knapsack problem instance to be used:\n",
    "knapsack = knapsack.Knapsack01Problem()\n",
    "\n",
    "# Genetic Algorithm constants:\n",
    "POPULATION_SIZE = 50\n",
    "P_CROSSOVER = 0.9  # probability for crossover\n",
    "P_MUTATION = 0.1   # probability for mutating an individual\n",
    "MAX_GENERATIONS = 50\n",
    "HALL_OF_FAME_SIZE = 1\n",
    "\n",
    "\n",
    "# set the random seed:\n",
    "RANDOM_SEED = 42\n",
    "random.seed(RANDOM_SEED)"
   ]
  },
  {
   "cell_type": "code",
   "execution_count": 19,
   "metadata": {},
   "outputs": [],
   "source": [
    "\n",
    "toolbox = base.Toolbox()\n",
    "# create an operator that randomly returns 0 or 1:\n",
    "toolbox.register(\"zeroOrOne\", random.randint, 0, 1)\n"
   ]
  },
  {
   "cell_type": "code",
   "execution_count": 20,
   "metadata": {},
   "outputs": [
    {
     "name": "stderr",
     "output_type": "stream",
     "text": [
      "c:\\Python310\\lib\\site-packages\\deap\\creator.py:185: RuntimeWarning: A class named 'FitnessMax' has already been created and it will be overwritten. Consider deleting previous creation of that class or rename it.\n",
      "  warnings.warn(\"A class named '{0}' has already been created and it \"\n",
      "c:\\Python310\\lib\\site-packages\\deap\\creator.py:185: RuntimeWarning: A class named 'Individual' has already been created and it will be overwritten. Consider deleting previous creation of that class or rename it.\n",
      "  warnings.warn(\"A class named '{0}' has already been created and it \"\n"
     ]
    }
   ],
   "source": [
    "\n",
    "# define a single objective, maximizing fitness strategy:\n",
    "creator.create(\"FitnessMax\", base.Fitness, weights=(1.0,))\n",
    "\n",
    "# create the Individual class based on list:\n",
    "creator.create(\"Individual\", list, fitness=creator.FitnessMax)\n",
    "\n",
    "# create the individual operator to fill up an Individual instance:\n",
    "toolbox.register(\"individualCreator\", tools.initRepeat, creator.Individual, toolbox.zeroOrOne, len(knapsack))\n",
    "\n",
    "# create the population operator to generate a list of individuals:\n",
    "toolbox.register(\"populationCreator\", tools.initRepeat, list, toolbox.individualCreator)\n"
   ]
  },
  {
   "cell_type": "code",
   "execution_count": 25,
   "metadata": {},
   "outputs": [],
   "source": [
    "\n",
    "\n",
    "# fitness calculation\n",
    "def knapsackValue(individual):\n",
    "    return knapsack.getValue(individual),  # return a tuple\n",
    "\n",
    "\n",
    "toolbox.register(\"evaluate\", knapsackValue)"
   ]
  },
  {
   "cell_type": "code",
   "execution_count": 26,
   "metadata": {},
   "outputs": [],
   "source": [
    "# genetic operators:mutFlipBit\n",
    "\n",
    "# Tournament selection with tournament size of 3:\n",
    "toolbox.register(\"select\", tools.selTournament, tournsize=3)\n",
    "\n",
    "# Single-point crossover:\n",
    "toolbox.register(\"mate\", tools.cxTwoPoint)\n",
    "\n",
    "# Flip-bit mutation:\n",
    "# indpb: Independent probability for each attribute to be flipped\n",
    "toolbox.register(\"mutate\", tools.mutFlipBit, indpb=1.0/len(knapsack))"
   ]
  },
  {
   "cell_type": "code",
   "execution_count": 27,
   "metadata": {},
   "outputs": [
    {
     "name": "stdout",
     "output_type": "stream",
     "text": [
      "gen\tnevals\tmax\tavg   \n",
      "0  \t50    \t845\t570.36\n",
      "1  \t43    \t890\t678.84\n",
      "2  \t50    \t890\t784.84\n",
      "3  \t48    \t910\t830.36\n",
      "4  \t48    \t950\t858.28\n",
      "5  \t50    \t950\t869.54\n",
      "6  \t46    \t950\t874.26\n",
      "7  \t46    \t980\t880.54\n",
      "8  \t48    \t980\t915.36\n",
      "9  \t49    \t980\t948.14\n",
      "10 \t43    \t980\t953.4 \n",
      "11 \t48    \t985\t958.78\n",
      "12 \t48    \t985\t969.54\n",
      "13 \t46    \t997\t973.68\n",
      "14 \t48    \t997\t975.42\n",
      "15 \t43    \t997\t972.92\n",
      "16 \t49    \t997\t979.88\n",
      "17 \t45    \t997\t987.82\n",
      "18 \t48    \t1000\t995.08\n",
      "19 \t48    \t1000\t991.62\n",
      "20 \t46    \t1000\t988.34\n",
      "21 \t47    \t1000\t988.5 \n",
      "22 \t49    \t1000\t989.68\n",
      "23 \t45    \t1000\t998.32\n",
      "24 \t46    \t1000\t999.28\n",
      "25 \t46    \t1000\t1000  \n",
      "26 \t41    \t1000\t996.24\n",
      "27 \t41    \t1000\t989.68\n",
      "28 \t40    \t1000\t992.2 \n",
      "29 \t48    \t1000\t989.48\n",
      "30 \t44    \t1000\t998.3 \n",
      "31 \t45    \t1000\t993.98\n",
      "32 \t44    \t1000\t990.14\n",
      "33 \t47    \t1000\t994.44\n",
      "34 \t43    \t1000\t994.9 \n",
      "35 \t46    \t1000\t990.24\n",
      "36 \t44    \t1000\t996.9 \n",
      "37 \t48    \t1000\t997.6 \n",
      "38 \t44    \t1000\t985.96\n",
      "39 \t43    \t1000\t997.7 \n",
      "40 \t50    \t1000\t994.44\n",
      "41 \t46    \t1000\t996.9 \n",
      "42 \t50    \t1000\t998.6 \n",
      "43 \t42    \t1000\t994.04\n",
      "44 \t48    \t1000\t996.04\n",
      "45 \t48    \t1000\t995.1 \n",
      "46 \t45    \t1000\t990.5 \n",
      "47 \t48    \t1000\t995.84\n",
      "48 \t42    \t1000\t995.74\n",
      "49 \t43    \t1000\t986.9 \n",
      "50 \t48    \t1000\t997.04\n"
     ]
    }
   ],
   "source": [
    "\n",
    "\n",
    "# create initial population (generation 0):\n",
    "population = toolbox.populationCreator(n=POPULATION_SIZE)\n",
    "\n",
    "# prepare the statistics object:\n",
    "stats = tools.Statistics(lambda ind: ind.fitness.values)\n",
    "stats.register(\"max\", numpy.max)\n",
    "stats.register(\"avg\", numpy.mean)\n",
    "\n",
    "# define the hall-of-fame object:\n",
    "hof = tools.HallOfFame(HALL_OF_FAME_SIZE)\n",
    "\n",
    "# perform the Genetic Algorithm flow with hof feature added:\n",
    "population, logbook = algorithms.eaSimple(population, toolbox, cxpb=P_CROSSOVER, mutpb=P_MUTATION,\n",
    "                                            ngen=MAX_GENERATIONS, stats=stats, halloffame=hof, verbose=True)\n"
   ]
  },
  {
   "cell_type": "code",
   "execution_count": 28,
   "metadata": {},
   "outputs": [
    {
     "name": "stdout",
     "output_type": "stream",
     "text": [
      "-- Best Ever Individual =  [1, 1, 1, 1, 1, 0, 1, 0, 1, 0, 1, 0, 1, 0, 0, 1, 0, 1, 1, 1, 1, 0]\n",
      "-- Best Ever Fitness =  1000.0\n",
      "-- Knapsack Items = \n",
      "- Adding map: weight = 9, value = 150, accumulated weight = 9, accumulated value = 150\n",
      "- Adding compass: weight = 13, value = 35, accumulated weight = 22, accumulated value = 185\n",
      "- Adding water: weight = 153, value = 200, accumulated weight = 175, accumulated value = 385\n",
      "- Adding sandwich: weight = 50, value = 160, accumulated weight = 225, accumulated value = 545\n",
      "- Adding glucose: weight = 15, value = 60, accumulated weight = 240, accumulated value = 605\n",
      "- Adding banana: weight = 27, value = 60, accumulated weight = 267, accumulated value = 665\n",
      "- Adding cheese: weight = 23, value = 30, accumulated weight = 290, accumulated value = 695\n",
      "- Adding suntan cream: weight = 11, value = 70, accumulated weight = 301, accumulated value = 765\n",
      "- Adding t-shirt: weight = 24, value = 15, accumulated weight = 325, accumulated value = 780\n",
      "- Adding waterproof trousers: weight = 42, value = 70, accumulated weight = 367, accumulated value = 850\n",
      "- Adding note-case: weight = 22, value = 80, accumulated weight = 389, accumulated value = 930\n",
      "- Adding sunglasses: weight = 7, value = 20, accumulated weight = 396, accumulated value = 950\n",
      "- Adding socks: weight = 4, value = 50, accumulated weight = 400, accumulated value = 1000\n",
      "- Total weight = 400, Total value = 1000\n"
     ]
    },
    {
     "data": {
      "image/png": "[encoded data removed]",
      "text/plain": [
       "<Figure size 640x480 with 1 Axes>"
      ]
     },
     "metadata": {},
     "output_type": "display_data"
    }
   ],
   "source": [
    "\n",
    "# print best solution found:\n",
    "best = hof.items[0]\n",
    "print(\"-- Best Ever Individual = \", best)\n",
    "print(\"-- Best Ever Fitness = \", best.fitness.values[0])\n",
    "\n",
    "print(\"-- Knapsack Items = \")\n",
    "knapsack.printItems(best)\n",
    "\n",
    "# extract statistics:\n",
    "maxFitnessValues, meanFitnessValues = logbook.select(\"max\", \"avg\")\n",
    "\n",
    "# plot statistics:\n",
    "sns.set_style(\"whitegrid\")\n",
    "plt.plot(maxFitnessValues, color='red')\n",
    "plt.plot(meanFitnessValues, color='green')\n",
    "plt.xlabel('Generation')\n",
    "plt.ylabel('Max / Average Fitness')\n",
    "plt.title('Max and Average fitness over Generations')\n",
    "plt.show()\n"
   ]
  },
  {
   "cell_type": "code",
   "execution_count": null,
   "metadata": {},
   "outputs": [],
   "source": []
  }
 ],
 "metadata": {
  "kernelspec": {
   "display_name": "Python 3",
   "language": "python",
   "name": "python3"
  },
  "language_info": {
   "codemirror_mode": {
    "name": "ipython",
    "version": 3
   },
   "file_extension": ".py",
   "mimetype": "text/x-python",
   "name": "python",
   "nbconvert_exporter": "python",
   "pygments_lexer": "ipython3",
   "version": "3.10.5"
  }
 },
 "nbformat": 4,
 "nbformat_minor": 2
}
