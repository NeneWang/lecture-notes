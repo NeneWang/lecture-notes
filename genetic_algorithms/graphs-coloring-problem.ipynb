{
 "cells": [
  {
   "cell_type": "markdown",
   "metadata": {},
   "source": [
    "# Graph Coloring Problem\n",
    "\n",
    "## Problem Statement\n",
    "\n",
    "The graph coloring task is used to assign a color for every node in the graph in such a way\n",
    "that no pair of connected (adjacent) nodes will share the same color. This is also known as\n",
    "the proper coloring of the graph\n",
    "\n",
    "```{figure} ./../img/2024-04-26-12-45-42.png\n",
    "---\n",
    "align: center\n",
    "---\n",
    "\n",
    "Graph Coloring Solution Exammple.\n",
    "https://en.wikipedia.org/wiki/File:Petersen_graph_3-coloring.svg\n",
    "\n",
    "\n",
    "```\n"
   ]
  },
  {
   "cell_type": "code",
   "execution_count": null,
   "metadata": {},
   "outputs": [],
   "source": []
  },
  {
   "cell_type": "code",
   "execution_count": null,
   "metadata": {},
   "outputs": [],
   "source": []
  },
  {
   "cell_type": "code",
   "execution_count": null,
   "metadata": {},
   "outputs": [],
   "source": []
  }
 ],
 "metadata": {
  "language_info": {
   "name": "python"
  }
 },
 "nbformat": 4,
 "nbformat_minor": 2
}
